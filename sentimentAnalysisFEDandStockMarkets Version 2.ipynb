{
 "cells": [
  {
   "cell_type": "code",
   "execution_count": 3,
   "id": "a1759a38",
   "metadata": {},
   "outputs": [
    {
     "name": "stdout",
     "output_type": "stream",
     "text": [
      "Requirement already satisfied: pandas in c:\\users\\eron\\anaconda3\\lib\\site-packages (1.3.5)\n",
      "Requirement already satisfied: matplotlib in c:\\users\\eron\\anaconda3\\lib\\site-packages (3.5.0)\n",
      "Requirement already satisfied: yfinance in c:\\users\\eron\\anaconda3\\lib\\site-packages (0.2.52)\n",
      "Requirement already satisfied: vaderSentiment in c:\\users\\eron\\anaconda3\\lib\\site-packages (3.3.2)\n",
      "Requirement already satisfied: pytz>=2017.3 in c:\\users\\eron\\anaconda3\\lib\\site-packages (from pandas) (2024.2)\n",
      "Requirement already satisfied: numpy>=1.17.3 in c:\\users\\eron\\anaconda3\\lib\\site-packages (from pandas) (1.20.3)\n",
      "Requirement already satisfied: python-dateutil>=2.7.3 in c:\\users\\eron\\anaconda3\\lib\\site-packages (from pandas) (2.8.2)\n",
      "Requirement already satisfied: pillow>=6.2.0 in c:\\users\\eron\\anaconda3\\lib\\site-packages (from matplotlib) (8.4.0)\n",
      "Requirement already satisfied: kiwisolver>=1.0.1 in c:\\users\\eron\\anaconda3\\lib\\site-packages (from matplotlib) (1.3.1)\n",
      "Requirement already satisfied: cycler>=0.10 in c:\\users\\eron\\anaconda3\\lib\\site-packages (from matplotlib) (0.11.0)\n",
      "Requirement already satisfied: fonttools>=4.22.0 in c:\\users\\eron\\anaconda3\\lib\\site-packages (from matplotlib) (4.25.0)\n",
      "Requirement already satisfied: pyparsing>=2.2.1 in c:\\users\\eron\\anaconda3\\lib\\site-packages (from matplotlib) (3.0.4)\n",
      "Requirement already satisfied: packaging>=20.0 in c:\\users\\eron\\anaconda3\\lib\\site-packages (from matplotlib) (21.3)\n",
      "Requirement already satisfied: frozendict>=2.3.4 in c:\\users\\eron\\anaconda3\\lib\\site-packages (from yfinance) (2.4.6)\n",
      "Requirement already satisfied: html5lib>=1.1 in c:\\users\\eron\\anaconda3\\lib\\site-packages (from yfinance) (1.1)\n",
      "Requirement already satisfied: platformdirs>=2.0.0 in c:\\users\\eron\\anaconda3\\lib\\site-packages (from yfinance) (4.3.6)\n",
      "Requirement already satisfied: peewee>=3.16.2 in c:\\users\\eron\\anaconda3\\lib\\site-packages (from yfinance) (3.17.8)\n",
      "Requirement already satisfied: beautifulsoup4>=4.11.1 in c:\\users\\eron\\anaconda3\\lib\\site-packages (from yfinance) (4.12.3)\n",
      "Requirement already satisfied: multitasking>=0.0.7 in c:\\users\\eron\\anaconda3\\lib\\site-packages (from yfinance) (0.0.11)\n",
      "Requirement already satisfied: requests>=2.31 in c:\\users\\eron\\anaconda3\\lib\\site-packages (from yfinance) (2.32.3)\n",
      "Requirement already satisfied: lxml>=4.9.1 in c:\\users\\eron\\anaconda3\\lib\\site-packages (from yfinance) (5.3.0)\n",
      "Requirement already satisfied: soupsieve>1.2 in c:\\users\\eron\\anaconda3\\lib\\site-packages (from beautifulsoup4>=4.11.1->yfinance) (2.3.1)\n",
      "Requirement already satisfied: webencodings in c:\\users\\eron\\anaconda3\\lib\\site-packages (from html5lib>=1.1->yfinance) (0.5.1)\n",
      "Requirement already satisfied: six>=1.9 in c:\\users\\eron\\anaconda3\\lib\\site-packages (from html5lib>=1.1->yfinance) (1.16.0)\n",
      "Requirement already satisfied: charset-normalizer<4,>=2 in c:\\users\\eron\\anaconda3\\lib\\site-packages (from requests>=2.31->yfinance) (2.0.4)\n",
      "Requirement already satisfied: idna<4,>=2.5 in c:\\users\\eron\\anaconda3\\lib\\site-packages (from requests>=2.31->yfinance) (3.3)\n",
      "Requirement already satisfied: urllib3<3,>=1.21.1 in c:\\users\\eron\\anaconda3\\lib\\site-packages (from requests>=2.31->yfinance) (1.26.7)\n",
      "Requirement already satisfied: certifi>=2017.4.17 in c:\\users\\eron\\anaconda3\\lib\\site-packages (from requests>=2.31->yfinance) (2021.10.8)\n",
      "Note: you may need to restart the kernel to use updated packages.\n"
     ]
    }
   ],
   "source": [
    "pip install pandas matplotlib yfinance vaderSentiment"
   ]
  },
  {
   "cell_type": "code",
   "execution_count": 1,
   "id": "57024c13",
   "metadata": {},
   "outputs": [
    {
     "name": "stdout",
     "output_type": "stream",
     "text": [
      "         Date Release Date       Type  \\\n",
      "0  2024-12-18   2025-01-08     Minute   \n",
      "1  2024-12-18   2024-12-18  Statement   \n",
      "2  2024-11-07   2024-11-26     Minute   \n",
      "3  2024-11-07   2024-11-07  Statement   \n",
      "4  2024-09-18   2024-09-18  Statement   \n",
      "\n",
      "                                                Text  \n",
      "0  Minutes of the Federal Open Market Committee\\n...  \n",
      "1  Recent indicators suggest that economic activi...  \n",
      "2  Minutes of the Federal Open Market Committee\\n...  \n",
      "3  Recent indicators suggest that economic activi...  \n",
      "4  Recent indicators suggest that economic activi...  \n"
     ]
    }
   ],
   "source": [
    "import pandas as pd\n",
    "\n",
    "# Load the dataset\n",
    "fed_data = pd.read_csv('communications.csv', parse_dates=['Release Date'])\n",
    "print(fed_data.head())\n"
   ]
  },
  {
   "cell_type": "code",
   "execution_count": 72,
   "id": "d10812fd",
   "metadata": {},
   "outputs": [
    {
     "name": "stderr",
     "output_type": "stream",
     "text": [
      "[*********************100%***********************]  1 of 1 completed\n",
      "[*********************100%***********************]  1 of 1 completed\n",
      "[*********************100%***********************]  1 of 1 completed"
     ]
    },
    {
     "name": "stdout",
     "output_type": "stream",
     "text": [
      "Price              Close          High           Low          Open    Volume\n",
      "Ticker            ^GDAXI        ^GDAXI        ^GDAXI        ^GDAXI    ^GDAXI\n",
      "Date                                                                        \n",
      "2023-01-02  14069.259766  14095.910156  13976.440430  13992.709961  34978500\n",
      "2023-01-03  14181.669922  14293.870117  14083.759766  14116.070312  57907500\n",
      "2023-01-04  14490.780273  14492.780273  14264.599609  14266.980469  76221600\n",
      "2023-01-05  14436.309570  14501.599609  14403.730469  14451.230469  60947500\n",
      "2023-01-06  14610.019531  14610.230469  14388.980469  14476.719727  55433700\n"
     ]
    },
    {
     "name": "stderr",
     "output_type": "stream",
     "text": [
      "\n"
     ]
    }
   ],
   "source": [
    "import yfinance as yf\n",
    "\n",
    "# Define indices\n",
    "indices = {\n",
    "    'DAX': '^GDAXI',  # Germany\n",
    "    'CAC 40': '^FCHI',  # France\n",
    "    'FTSE 100': '^FTSE'  # UK\n",
    "}\n",
    "\n",
    "# Fetch historical data\n",
    "stock_data = {}\n",
    "for name, ticker in indices.items():\n",
    "    stock_data[name] = yf.download(ticker, start='2023-01-01', end='2023-12-31')\n",
    "\n",
    "# Preview one of the datasets\n",
    "print(stock_data['DAX'].head())\n"
   ]
  },
  {
   "cell_type": "code",
   "execution_count": 73,
   "id": "60a4eaf3",
   "metadata": {},
   "outputs": [
    {
     "name": "stdout",
     "output_type": "stream",
     "text": [
      "  Release Date                                   Relevant Phrases\n",
      "0   2025-01-08  [With near-term measures of inflation compensa...\n",
      "1   2024-12-18  [Inflation has made progress toward the Commit...\n",
      "2   2024-11-26  [The rise at short maturities reflected increa...\n",
      "3   2024-11-07  [Inflation has made progress toward the Commit...\n",
      "4   2024-09-18  [Inflation has made further progress toward th...\n"
     ]
    }
   ],
   "source": [
    "keywords = ['interest rate', 'inflation', 'economic growth']\n",
    "\n",
    "import re\n",
    "\n",
    "def extract_relevant_phrases(text, keywords):\n",
    "    if pd.isnull(text):  # Handle missing text values\n",
    "        return []\n",
    "    phrases = []\n",
    "    for sentence in text.split('.'):  # Split into sentences\n",
    "        if any(keyword in sentence.lower() for keyword in keywords):  # Check for keywords\n",
    "            phrases.append(sentence.strip())  # Add relevant sentence\n",
    "    return phrases\n",
    "\n",
    "\n",
    "fed_data['Relevant Phrases'] = fed_data['Text'].apply(lambda x: extract_relevant_phrases(x, keywords))\n",
    "\n",
    "print(fed_data[['Release Date', 'Relevant Phrases']].head())\n"
   ]
  },
  {
   "cell_type": "code",
   "execution_count": 74,
   "id": "12b1cf39",
   "metadata": {},
   "outputs": [],
   "source": [
    "from vaderSentiment.vaderSentiment import SentimentIntensityAnalyzer\n",
    "analyzer = SentimentIntensityAnalyzer()\n"
   ]
  },
  {
   "cell_type": "code",
   "execution_count": 75,
   "id": "271c5a53",
   "metadata": {},
   "outputs": [],
   "source": [
    "def calculate_sentiment(phrases):\n",
    "    if not phrases:  # Handle empty lists\n",
    "        return 0\n",
    "    total_score = sum(analyzer.polarity_scores(phrase)['compound'] for phrase in phrases)\n",
    "    return total_score / len(phrases)  # Average score\n"
   ]
  },
  {
   "cell_type": "code",
   "execution_count": 76,
   "id": "ec3bc6e3",
   "metadata": {},
   "outputs": [],
   "source": [
    "fed_data['Sentiment Score'] = fed_data['Relevant Phrases'].apply(calculate_sentiment)\n"
   ]
  },
  {
   "cell_type": "code",
   "execution_count": 77,
   "id": "c9fd4a8b",
   "metadata": {},
   "outputs": [
    {
     "name": "stdout",
     "output_type": "stream",
     "text": [
      "         Date  Sentiment Score\n",
      "0  2024-12-18         0.156687\n",
      "1  2024-12-18         0.072360\n",
      "2  2024-11-07         0.153770\n",
      "3  2024-11-07         0.072360\n",
      "4  2024-09-18         0.208333\n"
     ]
    }
   ],
   "source": [
    "print(fed_data[['Date', 'Sentiment Score']].head())\n"
   ]
  },
  {
   "cell_type": "code",
   "execution_count": 78,
   "id": "0d17c5d0",
   "metadata": {},
   "outputs": [],
   "source": [
    "fed_data['Next Trading Day'] = pd.to_datetime(fed_data['Release Date']) + pd.DateOffset(1)\n"
   ]
  },
  {
   "cell_type": "code",
   "execution_count": 79,
   "id": "2f8417d8",
   "metadata": {},
   "outputs": [],
   "source": [
    "# Reset the index in both DataFrames to ensure consistency\n",
    "fed_data = fed_data.reset_index(drop=True)\n",
    "dax_data = dax_data.reset_index()\n"
   ]
  },
  {
   "cell_type": "code",
   "execution_count": 80,
   "id": "8ee72839",
   "metadata": {},
   "outputs": [],
   "source": [
    "# Ensure 'Adjusted Trading Day' in fed_data and 'Date' in dax_data are datetime\n",
    "fed_data['Adjusted Trading Day'] = pd.to_datetime(fed_data['Next Trading Day'])\n",
    "dax_data['Date'] = pd.to_datetime(dax_data['Date'])\n"
   ]
  },
  {
   "cell_type": "code",
   "execution_count": 81,
   "id": "ccdd67e2",
   "metadata": {},
   "outputs": [
    {
     "name": "stdout",
     "output_type": "stream",
     "text": [
      "Index(['Date', 'Release Date', 'Type', 'Text', 'Relevant Phrases',\n",
      "       'Sentiment Score', 'Next Trading Day', 'Adjusted Trading Day'],\n",
      "      dtype='object')\n",
      "Index(['index', 'Date', 'Close_^GDAXI', 'High_^GDAXI', 'Low_^GDAXI',\n",
      "       'Open_^GDAXI', 'Volume_^GDAXI'],\n",
      "      dtype='object')\n"
     ]
    }
   ],
   "source": [
    "print(fed_data.columns)  # Check column names in fed_data\n",
    "print(dax_data.columns)  # Check column names in dax_data\n"
   ]
  },
  {
   "cell_type": "code",
   "execution_count": 82,
   "id": "253d32da",
   "metadata": {},
   "outputs": [
    {
     "name": "stdout",
     "output_type": "stream",
     "text": [
      "<class 'pandas.core.frame.DataFrame'>\n",
      "RangeIndex: 442 entries, 0 to 441\n",
      "Data columns (total 8 columns):\n",
      " #   Column                Non-Null Count  Dtype         \n",
      "---  ------                --------------  -----         \n",
      " 0   Date                  442 non-null    object        \n",
      " 1   Release Date          413 non-null    datetime64[ns]\n",
      " 2   Type                  442 non-null    object        \n",
      " 3   Text                  442 non-null    object        \n",
      " 4   Relevant Phrases      442 non-null    object        \n",
      " 5   Sentiment Score       442 non-null    float64       \n",
      " 6   Next Trading Day      413 non-null    datetime64[ns]\n",
      " 7   Adjusted Trading Day  413 non-null    datetime64[ns]\n",
      "dtypes: datetime64[ns](3), float64(1), object(4)\n",
      "memory usage: 27.8+ KB\n",
      "None\n",
      "<class 'pandas.core.frame.DataFrame'>\n",
      "RangeIndex: 1275 entries, 0 to 1274\n",
      "Data columns (total 7 columns):\n",
      " #   Column         Non-Null Count  Dtype         \n",
      "---  ------         --------------  -----         \n",
      " 0   index          1275 non-null   int64         \n",
      " 1   Date           1275 non-null   datetime64[ns]\n",
      " 2   Close_^GDAXI   1275 non-null   float64       \n",
      " 3   High_^GDAXI    1275 non-null   float64       \n",
      " 4   Low_^GDAXI     1275 non-null   float64       \n",
      " 5   Open_^GDAXI    1275 non-null   float64       \n",
      " 6   Volume_^GDAXI  1275 non-null   int64         \n",
      "dtypes: datetime64[ns](1), float64(4), int64(2)\n",
      "memory usage: 69.9 KB\n",
      "None\n"
     ]
    }
   ],
   "source": [
    "print(fed_data.info())\n",
    "print(dax_data.info())\n"
   ]
  },
  {
   "cell_type": "code",
   "execution_count": 83,
   "id": "9e0b6b82",
   "metadata": {},
   "outputs": [
    {
     "name": "stdout",
     "output_type": "stream",
     "text": [
      "Index(['index', 'Date', 'Close_^GDAXI', 'High_^GDAXI', 'Low_^GDAXI',\n",
      "       'Open_^GDAXI', 'Volume_^GDAXI'],\n",
      "      dtype='object')\n"
     ]
    }
   ],
   "source": [
    "# Flatten multi-level column names in dax_data\n",
    "dax_data.columns = ['_'.join(col).strip() if isinstance(col, tuple) else col for col in dax_data.columns]\n",
    "\n",
    "# Check the new column names\n",
    "print(dax_data.columns)\n"
   ]
  },
  {
   "cell_type": "code",
   "execution_count": 84,
   "id": "f8b57f5e",
   "metadata": {},
   "outputs": [
    {
     "name": "stdout",
     "output_type": "stream",
     "text": [
      "Index(['Date', 'Release Date', 'Type', 'Text', 'Relevant Phrases',\n",
      "       'Sentiment Score', 'Next Trading Day', 'Adjusted Trading Day'],\n",
      "      dtype='object')\n",
      "Index(['index', 'Date', 'Close_^GDAXI', 'High_^GDAXI', 'Low_^GDAXI',\n",
      "       'Open_^GDAXI', 'Volume_^GDAXI'],\n",
      "      dtype='object')\n"
     ]
    }
   ],
   "source": [
    "print(fed_data.columns)  # Should include 'Adjusted Trading Day'\n",
    "print(dax_data.columns)  # Should include 'Date'\n"
   ]
  },
  {
   "cell_type": "code",
   "execution_count": 85,
   "id": "b505727a",
   "metadata": {},
   "outputs": [],
   "source": [
    "aligned_data = pd.merge(\n",
    "    fed_data,\n",
    "    dax_data,\n",
    "    left_on='Adjusted Trading Day',  # From fed_data\n",
    "    right_on='Date',                 # From dax_data\n",
    "    how='inner'                      # Use inner join to keep only matching rows\n",
    ")\n"
   ]
  },
  {
   "cell_type": "code",
   "execution_count": 86,
   "id": "07068923",
   "metadata": {},
   "outputs": [
    {
     "name": "stdout",
     "output_type": "stream",
     "text": [
      "Index(['Date_x', 'Release Date', 'Type', 'Text', 'Relevant Phrases',\n",
      "       'Sentiment Score', 'Next Trading Day', 'Adjusted Trading Day', 'index',\n",
      "       'Date_y', 'Close_^GDAXI', 'High_^GDAXI', 'Low_^GDAXI', 'Open_^GDAXI',\n",
      "       'Volume_^GDAXI'],\n",
      "      dtype='object')\n",
      "       Date_x Release Date       Type  \\\n",
      "0  2024-12-18   2024-12-18  Statement   \n",
      "1  2024-11-07   2024-11-26     Minute   \n",
      "2  2024-11-07   2024-11-07  Statement   \n",
      "3  2024-09-18   2024-09-18  Statement   \n",
      "4  2024-09-18   2024-10-09     Minute   \n",
      "\n",
      "                                                Text  \\\n",
      "0  Recent indicators suggest that economic activi...   \n",
      "1  Minutes of the Federal Open Market Committee\\n...   \n",
      "2  Recent indicators suggest that economic activi...   \n",
      "3  Recent indicators suggest that economic activi...   \n",
      "4  Minutes of the Federal Open Market Committee\\n...   \n",
      "\n",
      "                                    Relevant Phrases  Sentiment Score  \\\n",
      "0  [Inflation has made progress toward the Commit...         0.072360   \n",
      "1  [The rise at short maturities reflected increa...         0.153770   \n",
      "2  [Inflation has made progress toward the Commit...         0.072360   \n",
      "3  [Inflation has made further progress toward th...         0.208333   \n",
      "4  [The decline in nominal yields over the period...         0.193364   \n",
      "\n",
      "  Next Trading Day Adjusted Trading Day  index     Date_y  Close_^GDAXI  \\\n",
      "0       2024-12-19           2024-12-19   1270 2024-12-19  19969.859375   \n",
      "1       2024-11-27           2024-11-27   1254 2024-11-27  19261.750000   \n",
      "2       2024-11-08           2024-11-08   1241 2024-11-08  19215.480469   \n",
      "3       2024-09-19           2024-09-19   1205 2024-09-19  19002.380859   \n",
      "4       2024-10-10           2024-10-10   1220 2024-10-10  19210.900391   \n",
      "\n",
      "    High_^GDAXI    Low_^GDAXI   Open_^GDAXI  Volume_^GDAXI  \n",
      "0  20105.099609  19959.179688  20032.050781       70045700  \n",
      "1  19287.039062  19145.009766  19257.769531       51794500  \n",
      "2  19411.599609  19146.529297  19411.589844       69792500  \n",
      "3  19044.960938  18806.160156  18877.570312       80223000  \n",
      "4  19285.160156  19145.419922  19242.849609       52366500  \n"
     ]
    }
   ],
   "source": [
    "print(aligned_data.columns)\n",
    "print(aligned_data.head())\n"
   ]
  },
  {
   "cell_type": "code",
   "execution_count": 87,
   "id": "7a0995b4",
   "metadata": {},
   "outputs": [
    {
     "name": "stdout",
     "output_type": "stream",
     "text": [
      "Index(['Release Date', 'Type', 'Text', 'Relevant Phrases', 'Sentiment Score',\n",
      "       'Next Trading Day', 'Adjusted Trading Day', 'index', 'Close_^GDAXI',\n",
      "       'High_^GDAXI', 'Low_^GDAXI', 'Open_^GDAXI', 'Volume_^GDAXI'],\n",
      "      dtype='object')\n"
     ]
    }
   ],
   "source": [
    "# Drop redundant columns\n",
    "aligned_data = aligned_data.drop(columns=['Date_x', 'Date_y'])\n",
    "\n",
    "# Verify the structure\n",
    "print(aligned_data.columns)\n"
   ]
  },
  {
   "cell_type": "code",
   "execution_count": 88,
   "id": "cc2a5615",
   "metadata": {},
   "outputs": [
    {
     "name": "stdout",
     "output_type": "stream",
     "text": [
      "Index(['Release Date', 'Type', 'Text', 'Relevant Phrases', 'Sentiment Score',\n",
      "       'Next Trading Day', 'Trading Day', 'index', 'Close', 'High', 'Low',\n",
      "       'Open', 'Volume'],\n",
      "      dtype='object')\n"
     ]
    }
   ],
   "source": [
    "# Rename columns\n",
    "aligned_data.rename(columns={\n",
    "    'Adjusted Trading Day': 'Trading Day',\n",
    "    'Close_^GDAXI': 'Close',\n",
    "    'High_^GDAXI': 'High',\n",
    "    'Low_^GDAXI': 'Low',\n",
    "    'Open_^GDAXI': 'Open',\n",
    "    'Volume_^GDAXI': 'Volume'\n",
    "}, inplace=True)\n",
    "\n",
    "# Verify the new column names\n",
    "print(aligned_data.columns)\n"
   ]
  },
  {
   "cell_type": "code",
   "execution_count": 89,
   "id": "776621b5",
   "metadata": {},
   "outputs": [],
   "source": [
    "aligned_data['Daily Change (%)'] = aligned_data['Close'].pct_change() * 100\n"
   ]
  },
  {
   "cell_type": "code",
   "execution_count": 90,
   "id": "2de652ee",
   "metadata": {},
   "outputs": [],
   "source": [
    "def categorize_sentiment(score):\n",
    "    if score > 0.05:\n",
    "        return 'Positive'\n",
    "    elif score < -0.05:\n",
    "        return 'Negative'\n",
    "    else:\n",
    "        return 'Neutral'\n",
    "\n",
    "aligned_data['Sentiment Category'] = aligned_data['Sentiment Score'].apply(categorize_sentiment)\n"
   ]
  },
  {
   "cell_type": "code",
   "execution_count": 91,
   "id": "b6a754a6",
   "metadata": {},
   "outputs": [
    {
     "name": "stdout",
     "output_type": "stream",
     "text": [
      "  Release Date       Type                                               Text  \\\n",
      "0   2024-12-18  Statement  Recent indicators suggest that economic activi...   \n",
      "1   2024-11-26     Minute  Minutes of the Federal Open Market Committee\\n...   \n",
      "2   2024-11-07  Statement  Recent indicators suggest that economic activi...   \n",
      "3   2024-09-18  Statement  Recent indicators suggest that economic activi...   \n",
      "4   2024-10-09     Minute  Minutes of the Federal Open Market Committee\\n...   \n",
      "\n",
      "                                    Relevant Phrases  Sentiment Score  \\\n",
      "0  [Inflation has made progress toward the Commit...         0.072360   \n",
      "1  [The rise at short maturities reflected increa...         0.153770   \n",
      "2  [Inflation has made progress toward the Commit...         0.072360   \n",
      "3  [Inflation has made further progress toward th...         0.208333   \n",
      "4  [The decline in nominal yields over the period...         0.193364   \n",
      "\n",
      "  Next Trading Day Trading Day  index         Close          High  \\\n",
      "0       2024-12-19  2024-12-19   1270  19969.859375  20105.099609   \n",
      "1       2024-11-27  2024-11-27   1254  19261.750000  19287.039062   \n",
      "2       2024-11-08  2024-11-08   1241  19215.480469  19411.599609   \n",
      "3       2024-09-19  2024-09-19   1205  19002.380859  19044.960938   \n",
      "4       2024-10-10  2024-10-10   1220  19210.900391  19285.160156   \n",
      "\n",
      "            Low          Open    Volume  Daily Change (%) Sentiment Category  \n",
      "0  19959.179688  20032.050781  70045700               NaN           Positive  \n",
      "1  19145.009766  19257.769531  51794500         -3.545891           Positive  \n",
      "2  19146.529297  19411.589844  69792500         -0.240215           Positive  \n",
      "3  18806.160156  18877.570312  80223000         -1.109000           Positive  \n",
      "4  19145.419922  19242.849609  52366500          1.097334           Positive  \n"
     ]
    }
   ],
   "source": [
    "print(aligned_data.head())\n"
   ]
  },
  {
   "cell_type": "code",
   "execution_count": null,
   "id": "be93d5b0",
   "metadata": {},
   "outputs": [],
   "source": []
  },
  {
   "cell_type": "code",
   "execution_count": 92,
   "id": "1f6b4847",
   "metadata": {},
   "outputs": [
    {
     "name": "stdout",
     "output_type": "stream",
     "text": [
      "Correlation Matrix:\n",
      "                   Sentiment Score  Daily Change (%)\n",
      "Sentiment Score          1.000000          0.063152\n",
      "Daily Change (%)         0.063152          1.000000\n"
     ]
    }
   ],
   "source": [
    "correlation = aligned_data[['Sentiment Score', 'Daily Change (%)']].corr()\n",
    "print(\"Correlation Matrix:\\n\", correlation)\n"
   ]
  },
  {
   "cell_type": "code",
   "execution_count": 93,
   "id": "ecf5116c",
   "metadata": {},
   "outputs": [
    {
     "data": {
      "image/png": "[encoded data removed]",
      "text/plain": [
       "<Figure size 432x288 with 1 Axes>"
      ]
     },
     "metadata": {
      "needs_background": "light"
     },
     "output_type": "display_data"
    }
   ],
   "source": [
    "import matplotlib.pyplot as plt\n",
    "\n",
    "plt.scatter(aligned_data['Sentiment Score'], aligned_data['Daily Change (%)'])\n",
    "plt.title('Sentiment Score vs Daily Stock Change')\n",
    "plt.xlabel('Sentiment Score')\n",
    "plt.ylabel('Daily Change (%)')\n",
    "plt.show()\n"
   ]
  },
  {
   "cell_type": "code",
   "execution_count": 94,
   "id": "cdbf9995",
   "metadata": {},
   "outputs": [
    {
     "data": {
      "image/png": "[encoded data removed]",
      "text/plain": [
       "<Figure size 432x288 with 1 Axes>"
      ]
     },
     "metadata": {
      "needs_background": "light"
     },
     "output_type": "display_data"
    }
   ],
   "source": [
    "sentiment_group = aligned_data.groupby('Sentiment Category')['Daily Change (%)'].mean()\n",
    "sentiment_group.plot(kind='bar', title='Average Stock Change by Sentiment Category')\n",
    "plt.xlabel('Sentiment Category')\n",
    "plt.ylabel('Average Daily Change (%)')\n",
    "plt.show()\n"
   ]
  },
  {
   "cell_type": "code",
   "execution_count": 95,
   "id": "bdba8b3e",
   "metadata": {},
   "outputs": [
    {
     "name": "stdout",
     "output_type": "stream",
     "text": [
      "Release Date          0\n",
      "Type                  0\n",
      "Text                  0\n",
      "Relevant Phrases      0\n",
      "Sentiment Score       0\n",
      "Next Trading Day      0\n",
      "Trading Day           0\n",
      "index                 0\n",
      "Close                 0\n",
      "High                  0\n",
      "Low                   0\n",
      "Open                  0\n",
      "Volume                0\n",
      "Daily Change (%)      1\n",
      "Sentiment Category    0\n",
      "dtype: int64\n"
     ]
    }
   ],
   "source": [
    "print(aligned_data.isnull().sum())\n"
   ]
  },
  {
   "cell_type": "code",
   "execution_count": 96,
   "id": "98d9af18",
   "metadata": {},
   "outputs": [],
   "source": [
    "aligned_data['Daily Change (%)'].fillna(0, inplace=True)\n"
   ]
  },
  {
   "cell_type": "code",
   "execution_count": 97,
   "id": "9dbc2f06",
   "metadata": {},
   "outputs": [],
   "source": [
    "# Verify that the required columns exist\n",
    "required_columns = ['Sentiment Score', 'Daily Change (%)', 'Sentiment Category']\n",
    "\n",
    "for col in required_columns:\n",
    "    assert col in aligned_data.columns, f\"Column '{col}' is missing in aligned_data!\"\n"
   ]
  },
  {
   "cell_type": "code",
   "execution_count": 98,
   "id": "3eec694e",
   "metadata": {},
   "outputs": [
    {
     "name": "stdout",
     "output_type": "stream",
     "text": [
      "Sentiment Score       float64\n",
      "Daily Change (%)      float64\n",
      "Sentiment Category     object\n",
      "dtype: object\n"
     ]
    }
   ],
   "source": [
    "# Check data types of key columns\n",
    "print(aligned_data[['Sentiment Score', 'Daily Change (%)', 'Sentiment Category']].dtypes)\n"
   ]
  },
  {
   "cell_type": "code",
   "execution_count": 99,
   "id": "77214995",
   "metadata": {},
   "outputs": [],
   "source": [
    "aligned_data['Sentiment Category'] = aligned_data['Sentiment Category'].astype('category')\n"
   ]
  },
  {
   "cell_type": "code",
   "execution_count": 100,
   "id": "534d6f35",
   "metadata": {},
   "outputs": [
    {
     "name": "stdout",
     "output_type": "stream",
     "text": [
      "Sentiment Category    category\n",
      "dtype: object\n"
     ]
    }
   ],
   "source": [
    "print(aligned_data[['Sentiment Category']].dtypes)\n"
   ]
  },
  {
   "cell_type": "code",
   "execution_count": 101,
   "id": "e668d64f",
   "metadata": {},
   "outputs": [
    {
     "name": "stdout",
     "output_type": "stream",
     "text": [
      "       Sentiment Score  Daily Change (%)\n",
      "count        80.000000         80.000000\n",
      "mean          0.047567         -0.308184\n",
      "std           0.128904          6.080630\n",
      "min          -0.279040        -12.234089\n",
      "25%          -0.010986         -3.436813\n",
      "50%           0.078373         -1.099644\n",
      "75%           0.139390          1.725308\n",
      "max           0.252171         38.725047\n"
     ]
    }
   ],
   "source": [
    "print(aligned_data[['Sentiment Score', 'Daily Change (%)']].describe())\n"
   ]
  },
  {
   "cell_type": "code",
   "execution_count": 102,
   "id": "54ee523c",
   "metadata": {},
   "outputs": [
    {
     "name": "stdout",
     "output_type": "stream",
     "text": [
      "Positive    45\n",
      "Neutral     22\n",
      "Negative    13\n",
      "Name: Sentiment Category, dtype: int64\n"
     ]
    }
   ],
   "source": [
    "print(aligned_data['Sentiment Category'].value_counts())\n"
   ]
  },
  {
   "cell_type": "code",
   "execution_count": 103,
   "id": "8e91f893",
   "metadata": {},
   "outputs": [
    {
     "name": "stdout",
     "output_type": "stream",
     "text": [
      "Correlation Matrix:\n",
      "                   Sentiment Score  Daily Change (%)\n",
      "Sentiment Score          1.000000          0.063261\n",
      "Daily Change (%)         0.063261          1.000000\n"
     ]
    }
   ],
   "source": [
    "correlation = aligned_data[['Sentiment Score', 'Daily Change (%)']].corr()\n",
    "print(\"Correlation Matrix:\\n\", correlation)\n"
   ]
  },
  {
   "cell_type": "code",
   "execution_count": 104,
   "id": "3125631f",
   "metadata": {},
   "outputs": [
    {
     "name": "stdout",
     "output_type": "stream",
     "text": [
      "Sentiment Category\n",
      "Negative   -2.722745\n",
      "Neutral     1.866763\n",
      "Positive   -0.673952\n",
      "Name: Daily Change (%), dtype: float64\n"
     ]
    }
   ],
   "source": [
    "sentiment_group = aligned_data.groupby('Sentiment Category')['Daily Change (%)'].mean()\n",
    "print(sentiment_group)\n"
   ]
  },
  {
   "cell_type": "code",
   "execution_count": 105,
   "id": "05e70f09",
   "metadata": {},
   "outputs": [
    {
     "data": {
      "image/png": "[encoded data removed]",
      "text/plain": [
       "<Figure size 432x288 with 1 Axes>"
      ]
     },
     "metadata": {
      "needs_background": "light"
     },
     "output_type": "display_data"
    }
   ],
   "source": [
    "import matplotlib.pyplot as plt\n",
    "\n",
    "plt.scatter(aligned_data['Sentiment Score'], aligned_data['Daily Change (%)'])\n",
    "plt.title('Sentiment Score vs. Daily Stock Change')\n",
    "plt.xlabel('Sentiment Score')\n",
    "plt.ylabel('Daily Change (%)')\n",
    "plt.grid(True)\n",
    "plt.show()\n"
   ]
  },
  {
   "cell_type": "code",
   "execution_count": 106,
   "id": "6c7e6f43",
   "metadata": {},
   "outputs": [
    {
     "data": {
      "image/png": "[encoded data removed]",
      "text/plain": [
       "<Figure size 432x288 with 1 Axes>"
      ]
     },
     "metadata": {
      "needs_background": "light"
     },
     "output_type": "display_data"
    }
   ],
   "source": [
    "sentiment_group.plot(kind='bar', title='Average Stock Change by Sentiment Category')\n",
    "plt.xlabel('Sentiment Category')\n",
    "plt.ylabel('Average Daily Change (%)')\n",
    "plt.show()\n"
   ]
  },
  {
   "cell_type": "code",
   "execution_count": 107,
   "id": "12fd7148",
   "metadata": {},
   "outputs": [
    {
     "data": {
      "image/png": "[encoded data removed]",
      "text/plain": [
       "<Figure size 432x288 with 1 Axes>"
      ]
     },
     "metadata": {
      "needs_background": "light"
     },
     "output_type": "display_data"
    }
   ],
   "source": [
    "aligned_data['Sentiment Score'].hist(bins=20)\n",
    "plt.title('Distribution of Sentiment Scores')\n",
    "plt.xlabel('Sentiment Score')\n",
    "plt.ylabel('Frequency')\n",
    "plt.show()\n"
   ]
  },
  {
   "cell_type": "code",
   "execution_count": 3,
   "id": "18bd3e6e",
   "metadata": {},
   "outputs": [],
   "source": [
    "import numpy\n",
    "from sklearn.linear_model import LinearRegression\n",
    "from sklearn.metrics import mean_squared_error, r2_score\n",
    "import matplotlib.pyplot as plt\n"
   ]
  },
  {
   "cell_type": "code",
   "execution_count": 4,
   "id": "1c5b0db9",
   "metadata": {},
   "outputs": [
    {
     "ename": "NameError",
     "evalue": "name 'merged_data' is not defined",
     "output_type": "error",
     "traceback": [
      "\u001b[1;31m---------------------------------------------------------------------------\u001b[0m",
      "\u001b[1;31mNameError\u001b[0m                                 Traceback (most recent call last)",
      "\u001b[1;32m~\\AppData\\Local\\Temp/ipykernel_33928/3942512193.py\u001b[0m in \u001b[0;36m<module>\u001b[1;34m\u001b[0m\n\u001b[0;32m      1\u001b[0m \u001b[1;31m# Define the features (sentiment score) and target variable (stock price change)\u001b[0m\u001b[1;33m\u001b[0m\u001b[1;33m\u001b[0m\u001b[1;33m\u001b[0m\u001b[0m\n\u001b[1;32m----> 2\u001b[1;33m \u001b[0mX\u001b[0m \u001b[1;33m=\u001b[0m \u001b[0mmerged_data\u001b[0m\u001b[1;33m[\u001b[0m\u001b[1;33m[\u001b[0m\u001b[1;34m'Sentiment Score'\u001b[0m\u001b[1;33m]\u001b[0m\u001b[1;33m]\u001b[0m  \u001b[1;31m# Sentiment score as the independent variable\u001b[0m\u001b[1;33m\u001b[0m\u001b[1;33m\u001b[0m\u001b[0m\n\u001b[0m\u001b[0;32m      3\u001b[0m \u001b[0my\u001b[0m \u001b[1;33m=\u001b[0m \u001b[0mmerged_data\u001b[0m\u001b[1;33m[\u001b[0m\u001b[1;34m'Average Daily Change (%)'\u001b[0m\u001b[1;33m]\u001b[0m  \u001b[1;31m# Daily percentage change in stock prices as the dependent variable\u001b[0m\u001b[1;33m\u001b[0m\u001b[1;33m\u001b[0m\u001b[0m\n",
      "\u001b[1;31mNameError\u001b[0m: name 'merged_data' is not defined"
     ]
    }
   ],
   "source": [
    "# Define the features (sentiment score) and target variable (stock price change)\n",
    "X = merged_data[['Sentiment Score']]  # Sentiment score as the independent variable\n",
    "y = merged_data['Average Daily Change (%)']  # Daily percentage change in stock prices as the dependent variable\n"
   ]
  },
  {
   "cell_type": "code",
   "execution_count": null,
   "id": "6a8eebdb",
   "metadata": {},
   "outputs": [],
   "source": [
    "# Initialize the Linear Regression model\n",
    "model = LinearRegression()\n",
    "\n",
    "# Train the model using the data\n",
    "model.fit(X, y)\n"
   ]
  },
  {
   "cell_type": "code",
   "execution_count": null,
   "id": "318abf4e",
   "metadata": {},
   "outputs": [],
   "source": [
    "# Predict the stock price changes using the trained model\n",
    "predictions = model.predict(X)\n"
   ]
  },
  {
   "cell_type": "code",
   "execution_count": null,
   "id": "87f53351",
   "metadata": {},
   "outputs": [],
   "source": [
    "# Calculate the R-squared value (Goodness of fit)\n",
    "r2 = r2_score(y, predictions)\n",
    "\n",
    "# Calculate the RMSE (Root Mean Squared Error)\n",
    "rmse = mean_squared_error(y, predictions, squared=False)\n",
    "\n",
    "# Print the evaluation metrics\n",
    "print(f\"R-squared: {r2:.3f}\")\n",
    "print(f\"RMSE: {rmse:.3f}\")\n"
   ]
  },
  {
   "cell_type": "code",
   "execution_count": null,
   "id": "f9309f42",
   "metadata": {},
   "outputs": [],
   "source": [
    "# Plot the actual vs. predicted values\n",
    "plt.figure(figsize=(8,6))\n",
    "\n",
    "# Scatter plot of actual values\n",
    "plt.scatter(y, predictions, color='blue', alpha=0.6)\n",
    "\n",
    "# Line of perfect prediction (y = x)\n",
    "plt.plot([min(y), max(y)], [min(y), max(y)], color='red', linestyle='--')\n",
    "\n",
    "# Labels and title\n",
    "plt.title('Actual vs. Predicted Stock Price Changes', fontsize=16)\n",
    "plt.xlabel('Actual Stock Price Change (%)', fontsize=14)\n",
    "plt.ylabel('Predicted Stock Price Change (%)', fontsize=14)\n",
    "\n",
    "# Show the plot\n",
    "plt.show()\n"
   ]
  }
 ],
 "metadata": {
  "kernelspec": {
   "display_name": "Python 3 (ipykernel)",
   "language": "python",
   "name": "python3"
  },
  "language_info": {
   "codemirror_mode": {
    "name": "ipython",
    "version": 3
   },
   "file_extension": ".py",
   "mimetype": "text/x-python",
   "name": "python",
   "nbconvert_exporter": "python",
   "pygments_lexer": "ipython3",
   "version": "3.8.8"
  }
 },
 "nbformat": 4,
 "nbformat_minor": 5
}
